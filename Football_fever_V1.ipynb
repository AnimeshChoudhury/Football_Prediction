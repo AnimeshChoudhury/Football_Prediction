{
 "cells": [
  {
   "cell_type": "markdown",
   "id": "8cebc299-8798-4310-9ca2-6c9b0d8552cf",
   "metadata": {},
   "source": [
    "# Football match winner prediction"
   ]
  },
  {
   "cell_type": "code",
   "execution_count": 2,
   "id": "3b7dcef7-ab40-4d5d-91a3-113798dfaf29",
   "metadata": {},
   "outputs": [],
   "source": [
    "# libraries\n",
    "import numpy as np\n",
    "from matplotlib import pyplot as plt\n",
    "import pandas as pd\n",
    "import seaborn as sns"
   ]
  },
  {
   "cell_type": "code",
   "execution_count": 2,
   "id": "bf5a51f3-d33b-45a1-9f3c-459bc7a4e219",
   "metadata": {},
   "outputs": [
    {
     "data": {
      "text/html": [
       "<div>\n",
       "<style scoped>\n",
       "    .dataframe tbody tr th:only-of-type {\n",
       "        vertical-align: middle;\n",
       "    }\n",
       "\n",
       "    .dataframe tbody tr th {\n",
       "        vertical-align: top;\n",
       "    }\n",
       "\n",
       "    .dataframe thead th {\n",
       "        text-align: right;\n",
       "    }\n",
       "</style>\n",
       "<table border=\"1\" class=\"dataframe\">\n",
       "  <thead>\n",
       "    <tr style=\"text-align: right;\">\n",
       "      <th></th>\n",
       "      <th>Div</th>\n",
       "      <th>Date</th>\n",
       "      <th>Time</th>\n",
       "      <th>HomeTeam</th>\n",
       "      <th>AwayTeam</th>\n",
       "      <th>FTHG</th>\n",
       "      <th>FTAG</th>\n",
       "      <th>FTR</th>\n",
       "      <th>HTHG</th>\n",
       "      <th>HTAG</th>\n",
       "      <th>...</th>\n",
       "      <th>AC</th>\n",
       "      <th>HY</th>\n",
       "      <th>AY</th>\n",
       "      <th>HR</th>\n",
       "      <th>AR</th>\n",
       "      <th>B365H</th>\n",
       "      <th>B365D</th>\n",
       "      <th>B365A</th>\n",
       "      <th>B365&gt;2.5</th>\n",
       "      <th>B365&lt;2.5</th>\n",
       "    </tr>\n",
       "  </thead>\n",
       "  <tbody>\n",
       "    <tr>\n",
       "      <th>0</th>\n",
       "      <td>SP1</td>\n",
       "      <td>27/08/11</td>\n",
       "      <td>NaN</td>\n",
       "      <td>Granada</td>\n",
       "      <td>Betis</td>\n",
       "      <td>0.0</td>\n",
       "      <td>1.0</td>\n",
       "      <td>A</td>\n",
       "      <td>0.0</td>\n",
       "      <td>0.0</td>\n",
       "      <td>...</td>\n",
       "      <td>5.0</td>\n",
       "      <td>2.0</td>\n",
       "      <td>2.0</td>\n",
       "      <td>0.0</td>\n",
       "      <td>0.0</td>\n",
       "      <td>2.30</td>\n",
       "      <td>3.40</td>\n",
       "      <td>3.00</td>\n",
       "      <td>NaN</td>\n",
       "      <td>NaN</td>\n",
       "    </tr>\n",
       "    <tr>\n",
       "      <th>1</th>\n",
       "      <td>SP1</td>\n",
       "      <td>27/08/11</td>\n",
       "      <td>NaN</td>\n",
       "      <td>Sp Gijon</td>\n",
       "      <td>Sociedad</td>\n",
       "      <td>1.0</td>\n",
       "      <td>2.0</td>\n",
       "      <td>A</td>\n",
       "      <td>0.0</td>\n",
       "      <td>1.0</td>\n",
       "      <td>...</td>\n",
       "      <td>2.0</td>\n",
       "      <td>2.0</td>\n",
       "      <td>1.0</td>\n",
       "      <td>1.0</td>\n",
       "      <td>1.0</td>\n",
       "      <td>2.05</td>\n",
       "      <td>3.25</td>\n",
       "      <td>3.75</td>\n",
       "      <td>NaN</td>\n",
       "      <td>NaN</td>\n",
       "    </tr>\n",
       "    <tr>\n",
       "      <th>2</th>\n",
       "      <td>SP1</td>\n",
       "      <td>27/08/11</td>\n",
       "      <td>NaN</td>\n",
       "      <td>Valencia</td>\n",
       "      <td>Santander</td>\n",
       "      <td>4.0</td>\n",
       "      <td>3.0</td>\n",
       "      <td>H</td>\n",
       "      <td>1.0</td>\n",
       "      <td>2.0</td>\n",
       "      <td>...</td>\n",
       "      <td>3.0</td>\n",
       "      <td>3.0</td>\n",
       "      <td>3.0</td>\n",
       "      <td>0.0</td>\n",
       "      <td>0.0</td>\n",
       "      <td>1.40</td>\n",
       "      <td>4.33</td>\n",
       "      <td>8.00</td>\n",
       "      <td>NaN</td>\n",
       "      <td>NaN</td>\n",
       "    </tr>\n",
       "    <tr>\n",
       "      <th>3</th>\n",
       "      <td>SP1</td>\n",
       "      <td>28/08/11</td>\n",
       "      <td>NaN</td>\n",
       "      <td>Ath Bilbao</td>\n",
       "      <td>Vallecano</td>\n",
       "      <td>1.0</td>\n",
       "      <td>1.0</td>\n",
       "      <td>D</td>\n",
       "      <td>0.0</td>\n",
       "      <td>0.0</td>\n",
       "      <td>...</td>\n",
       "      <td>4.0</td>\n",
       "      <td>1.0</td>\n",
       "      <td>3.0</td>\n",
       "      <td>0.0</td>\n",
       "      <td>0.0</td>\n",
       "      <td>1.57</td>\n",
       "      <td>3.75</td>\n",
       "      <td>6.00</td>\n",
       "      <td>NaN</td>\n",
       "      <td>NaN</td>\n",
       "    </tr>\n",
       "    <tr>\n",
       "      <th>4</th>\n",
       "      <td>SP1</td>\n",
       "      <td>28/08/11</td>\n",
       "      <td>NaN</td>\n",
       "      <td>Ath Madrid</td>\n",
       "      <td>Osasuna</td>\n",
       "      <td>0.0</td>\n",
       "      <td>0.0</td>\n",
       "      <td>D</td>\n",
       "      <td>0.0</td>\n",
       "      <td>0.0</td>\n",
       "      <td>...</td>\n",
       "      <td>5.0</td>\n",
       "      <td>1.0</td>\n",
       "      <td>0.0</td>\n",
       "      <td>0.0</td>\n",
       "      <td>0.0</td>\n",
       "      <td>1.53</td>\n",
       "      <td>3.80</td>\n",
       "      <td>6.50</td>\n",
       "      <td>NaN</td>\n",
       "      <td>NaN</td>\n",
       "    </tr>\n",
       "  </tbody>\n",
       "</table>\n",
       "<p>5 rows × 28 columns</p>\n",
       "</div>"
      ],
      "text/plain": [
       "   Div      Date Time    HomeTeam   AwayTeam  FTHG  FTAG FTR  HTHG  HTAG  ...  \\\n",
       "0  SP1  27/08/11  NaN     Granada      Betis   0.0   1.0   A   0.0   0.0  ...   \n",
       "1  SP1  27/08/11  NaN    Sp Gijon   Sociedad   1.0   2.0   A   0.0   1.0  ...   \n",
       "2  SP1  27/08/11  NaN    Valencia  Santander   4.0   3.0   H   1.0   2.0  ...   \n",
       "3  SP1  28/08/11  NaN  Ath Bilbao  Vallecano   1.0   1.0   D   0.0   0.0  ...   \n",
       "4  SP1  28/08/11  NaN  Ath Madrid    Osasuna   0.0   0.0   D   0.0   0.0  ...   \n",
       "\n",
       "    AC   HY   AY   HR   AR  B365H  B365D  B365A  B365>2.5  B365<2.5  \n",
       "0  5.0  2.0  2.0  0.0  0.0   2.30   3.40   3.00       NaN       NaN  \n",
       "1  2.0  2.0  1.0  1.0  1.0   2.05   3.25   3.75       NaN       NaN  \n",
       "2  3.0  3.0  3.0  0.0  0.0   1.40   4.33   8.00       NaN       NaN  \n",
       "3  4.0  1.0  3.0  0.0  0.0   1.57   3.75   6.00       NaN       NaN  \n",
       "4  5.0  1.0  0.0  0.0  0.0   1.53   3.80   6.50       NaN       NaN  \n",
       "\n",
       "[5 rows x 28 columns]"
      ]
     },
     "execution_count": 2,
     "metadata": {},
     "output_type": "execute_result"
    }
   ],
   "source": [
    "df = pd.read_csv('all_leagues.csv', index_col= 0)\n",
    "df.head()"
   ]
  },
  {
   "cell_type": "code",
   "execution_count": 3,
   "id": "5de54950-f6b8-4ada-b7a6-da9f15cbf522",
   "metadata": {},
   "outputs": [
    {
     "name": "stdout",
     "output_type": "stream",
     "text": [
      "<class 'pandas.core.frame.DataFrame'>\n",
      "Int64Index: 84788 entries, 0 to 179\n",
      "Data columns (total 28 columns):\n",
      " #   Column    Non-Null Count  Dtype  \n",
      "---  ------    --------------  -----  \n",
      " 0   Div       84668 non-null  object \n",
      " 1   Date      84668 non-null  object \n",
      " 2   Time      22374 non-null  object \n",
      " 3   HomeTeam  84668 non-null  object \n",
      " 4   AwayTeam  84668 non-null  object \n",
      " 5   FTHG      84666 non-null  float64\n",
      " 6   FTAG      84666 non-null  float64\n",
      " 7   FTR       84666 non-null  object \n",
      " 8   HTHG      84606 non-null  float64\n",
      " 9   HTAG      84606 non-null  float64\n",
      " 10  HTR       84606 non-null  object \n",
      " 11  HS        60321 non-null  float64\n",
      " 12  AS        60321 non-null  float64\n",
      " 13  HST       60321 non-null  float64\n",
      " 14  AST       60321 non-null  float64\n",
      " 15  HF        58977 non-null  float64\n",
      " 16  AF        58977 non-null  float64\n",
      " 17  HC        60321 non-null  float64\n",
      " 18  AC        60321 non-null  float64\n",
      " 19  HY        63412 non-null  float64\n",
      " 20  AY        63413 non-null  float64\n",
      " 21  HR        63413 non-null  float64\n",
      " 22  AR        63411 non-null  float64\n",
      " 23  B365H     84448 non-null  float64\n",
      " 24  B365D     84448 non-null  float64\n",
      " 25  B365A     84448 non-null  float64\n",
      " 26  B365>2.5  22289 non-null  float64\n",
      " 27  B365<2.5  22289 non-null  float64\n",
      "dtypes: float64(21), object(7)\n",
      "memory usage: 18.8+ MB\n"
     ]
    }
   ],
   "source": [
    "df.info()"
   ]
  },
  {
   "cell_type": "markdown",
   "id": "eba51c61-75dd-400c-b37a-1fdd5bd1f015",
   "metadata": {},
   "source": [
    "## some common data attributes\n",
    "Div = League Division\n",
    "<br>\n",
    "Date = Match Date (dd/mm/yy)\n",
    "<br>\n",
    "HomeTeam = Home Team\n",
    "<br>\n",
    "AwayTeam = Away Team\n",
    "<br>\n",
    "FTHG = Full Time Home Team Goals\n",
    "<br>\n",
    "FTAG = Full Time Away Team Goals\n",
    "<br>\n",
    "FTR and Res = Full Time Result (H=Home Win, D=Draw, A=Away Win)\n",
    "<br>\n",
    "HTHG = Half Time Home Team Goals\n",
    "<br>\n",
    "HTAG = Half Time Away Team Goals\n",
    "<br>\n",
    "HTR = Half Time Result (H=Home Win, D=Draw, A=Away Win)\n",
    "## some common match statistics\n",
    "HS = Home Team Shots\n",
    "<br>\n",
    "AS = Away Team Shots\n",
    "<br>\n",
    "HST = Home Team Shots on Target\n",
    "<br>\n",
    "AST = Away Team Shots on Target\n",
    "<br>\n",
    "HC = Home Team Corners\n",
    "<br>\n",
    "AC = Away Team Corners\n",
    "<br>\n",
    "HF = Home Team Fouls Committed\n",
    "<br>\n",
    "AF = Away Team Fouls Committed\n",
    "<br>\n",
    "HY = Home Team Yellow Cards\n",
    "<br>\n",
    "AY = Away Team Yellow Cards\n",
    "<br>\n",
    "HR = Home Team Red Cards\n",
    "<br>\n",
    "AR = Away Team Red Cards"
   ]
  },
  {
   "cell_type": "code",
   "execution_count": 6,
   "id": "66c9f5f7-660f-4b03-8458-14d987911c91",
   "metadata": {},
   "outputs": [
    {
     "data": {
      "text/html": [
       "<div>\n",
       "<style scoped>\n",
       "    .dataframe tbody tr th:only-of-type {\n",
       "        vertical-align: middle;\n",
       "    }\n",
       "\n",
       "    .dataframe tbody tr th {\n",
       "        vertical-align: top;\n",
       "    }\n",
       "\n",
       "    .dataframe thead th {\n",
       "        text-align: right;\n",
       "    }\n",
       "</style>\n",
       "<table border=\"1\" class=\"dataframe\">\n",
       "  <thead>\n",
       "    <tr style=\"text-align: right;\">\n",
       "      <th></th>\n",
       "      <th>Div</th>\n",
       "      <th>HomeTeam</th>\n",
       "      <th>AwayTeam</th>\n",
       "      <th>FTHG</th>\n",
       "      <th>FTAG</th>\n",
       "      <th>FTR</th>\n",
       "      <th>HTHG</th>\n",
       "      <th>HTAG</th>\n",
       "      <th>HTR</th>\n",
       "      <th>HS</th>\n",
       "      <th>...</th>\n",
       "      <th>AF</th>\n",
       "      <th>HC</th>\n",
       "      <th>AC</th>\n",
       "      <th>HY</th>\n",
       "      <th>AY</th>\n",
       "      <th>HR</th>\n",
       "      <th>AR</th>\n",
       "      <th>B365H</th>\n",
       "      <th>B365D</th>\n",
       "      <th>B365A</th>\n",
       "    </tr>\n",
       "  </thead>\n",
       "  <tbody>\n",
       "    <tr>\n",
       "      <th>0</th>\n",
       "      <td>SP1</td>\n",
       "      <td>Granada</td>\n",
       "      <td>Betis</td>\n",
       "      <td>0.0</td>\n",
       "      <td>1.0</td>\n",
       "      <td>A</td>\n",
       "      <td>0.0</td>\n",
       "      <td>0.0</td>\n",
       "      <td>D</td>\n",
       "      <td>11.0</td>\n",
       "      <td>...</td>\n",
       "      <td>16.0</td>\n",
       "      <td>8.0</td>\n",
       "      <td>5.0</td>\n",
       "      <td>2.0</td>\n",
       "      <td>2.0</td>\n",
       "      <td>0.0</td>\n",
       "      <td>0.0</td>\n",
       "      <td>2.30</td>\n",
       "      <td>3.40</td>\n",
       "      <td>3.00</td>\n",
       "    </tr>\n",
       "    <tr>\n",
       "      <th>1</th>\n",
       "      <td>SP1</td>\n",
       "      <td>Sp Gijon</td>\n",
       "      <td>Sociedad</td>\n",
       "      <td>1.0</td>\n",
       "      <td>2.0</td>\n",
       "      <td>A</td>\n",
       "      <td>0.0</td>\n",
       "      <td>1.0</td>\n",
       "      <td>A</td>\n",
       "      <td>17.0</td>\n",
       "      <td>...</td>\n",
       "      <td>11.0</td>\n",
       "      <td>9.0</td>\n",
       "      <td>2.0</td>\n",
       "      <td>2.0</td>\n",
       "      <td>1.0</td>\n",
       "      <td>1.0</td>\n",
       "      <td>1.0</td>\n",
       "      <td>2.05</td>\n",
       "      <td>3.25</td>\n",
       "      <td>3.75</td>\n",
       "    </tr>\n",
       "    <tr>\n",
       "      <th>2</th>\n",
       "      <td>SP1</td>\n",
       "      <td>Valencia</td>\n",
       "      <td>Santander</td>\n",
       "      <td>4.0</td>\n",
       "      <td>3.0</td>\n",
       "      <td>H</td>\n",
       "      <td>1.0</td>\n",
       "      <td>2.0</td>\n",
       "      <td>A</td>\n",
       "      <td>26.0</td>\n",
       "      <td>...</td>\n",
       "      <td>11.0</td>\n",
       "      <td>10.0</td>\n",
       "      <td>3.0</td>\n",
       "      <td>3.0</td>\n",
       "      <td>3.0</td>\n",
       "      <td>0.0</td>\n",
       "      <td>0.0</td>\n",
       "      <td>1.40</td>\n",
       "      <td>4.33</td>\n",
       "      <td>8.00</td>\n",
       "    </tr>\n",
       "    <tr>\n",
       "      <th>3</th>\n",
       "      <td>SP1</td>\n",
       "      <td>Ath Bilbao</td>\n",
       "      <td>Vallecano</td>\n",
       "      <td>1.0</td>\n",
       "      <td>1.0</td>\n",
       "      <td>D</td>\n",
       "      <td>0.0</td>\n",
       "      <td>0.0</td>\n",
       "      <td>D</td>\n",
       "      <td>10.0</td>\n",
       "      <td>...</td>\n",
       "      <td>19.0</td>\n",
       "      <td>9.0</td>\n",
       "      <td>4.0</td>\n",
       "      <td>1.0</td>\n",
       "      <td>3.0</td>\n",
       "      <td>0.0</td>\n",
       "      <td>0.0</td>\n",
       "      <td>1.57</td>\n",
       "      <td>3.75</td>\n",
       "      <td>6.00</td>\n",
       "    </tr>\n",
       "    <tr>\n",
       "      <th>4</th>\n",
       "      <td>SP1</td>\n",
       "      <td>Ath Madrid</td>\n",
       "      <td>Osasuna</td>\n",
       "      <td>0.0</td>\n",
       "      <td>0.0</td>\n",
       "      <td>D</td>\n",
       "      <td>0.0</td>\n",
       "      <td>0.0</td>\n",
       "      <td>D</td>\n",
       "      <td>28.0</td>\n",
       "      <td>...</td>\n",
       "      <td>8.0</td>\n",
       "      <td>12.0</td>\n",
       "      <td>5.0</td>\n",
       "      <td>1.0</td>\n",
       "      <td>0.0</td>\n",
       "      <td>0.0</td>\n",
       "      <td>0.0</td>\n",
       "      <td>1.53</td>\n",
       "      <td>3.80</td>\n",
       "      <td>6.50</td>\n",
       "    </tr>\n",
       "    <tr>\n",
       "      <th>...</th>\n",
       "      <td>...</td>\n",
       "      <td>...</td>\n",
       "      <td>...</td>\n",
       "      <td>...</td>\n",
       "      <td>...</td>\n",
       "      <td>...</td>\n",
       "      <td>...</td>\n",
       "      <td>...</td>\n",
       "      <td>...</td>\n",
       "      <td>...</td>\n",
       "      <td>...</td>\n",
       "      <td>...</td>\n",
       "      <td>...</td>\n",
       "      <td>...</td>\n",
       "      <td>...</td>\n",
       "      <td>...</td>\n",
       "      <td>...</td>\n",
       "      <td>...</td>\n",
       "      <td>...</td>\n",
       "      <td>...</td>\n",
       "      <td>...</td>\n",
       "    </tr>\n",
       "    <tr>\n",
       "      <th>175</th>\n",
       "      <td>SC3</td>\n",
       "      <td>Annan Athletic</td>\n",
       "      <td>Kelty Hearts</td>\n",
       "      <td>1.0</td>\n",
       "      <td>2.0</td>\n",
       "      <td>A</td>\n",
       "      <td>1.0</td>\n",
       "      <td>2.0</td>\n",
       "      <td>A</td>\n",
       "      <td>2.0</td>\n",
       "      <td>...</td>\n",
       "      <td>13.0</td>\n",
       "      <td>4.0</td>\n",
       "      <td>3.0</td>\n",
       "      <td>1.0</td>\n",
       "      <td>1.0</td>\n",
       "      <td>0.0</td>\n",
       "      <td>0.0</td>\n",
       "      <td>3.30</td>\n",
       "      <td>3.60</td>\n",
       "      <td>1.85</td>\n",
       "    </tr>\n",
       "    <tr>\n",
       "      <th>176</th>\n",
       "      <td>SC3</td>\n",
       "      <td>Cowdenbeath</td>\n",
       "      <td>Albion Rvs</td>\n",
       "      <td>0.0</td>\n",
       "      <td>1.0</td>\n",
       "      <td>A</td>\n",
       "      <td>0.0</td>\n",
       "      <td>0.0</td>\n",
       "      <td>D</td>\n",
       "      <td>2.0</td>\n",
       "      <td>...</td>\n",
       "      <td>5.0</td>\n",
       "      <td>7.0</td>\n",
       "      <td>3.0</td>\n",
       "      <td>3.0</td>\n",
       "      <td>1.0</td>\n",
       "      <td>0.0</td>\n",
       "      <td>0.0</td>\n",
       "      <td>NaN</td>\n",
       "      <td>NaN</td>\n",
       "      <td>NaN</td>\n",
       "    </tr>\n",
       "    <tr>\n",
       "      <th>177</th>\n",
       "      <td>SC3</td>\n",
       "      <td>Forfar</td>\n",
       "      <td>Stenhousemuir</td>\n",
       "      <td>0.0</td>\n",
       "      <td>0.0</td>\n",
       "      <td>D</td>\n",
       "      <td>0.0</td>\n",
       "      <td>0.0</td>\n",
       "      <td>D</td>\n",
       "      <td>16.0</td>\n",
       "      <td>...</td>\n",
       "      <td>12.0</td>\n",
       "      <td>7.0</td>\n",
       "      <td>3.0</td>\n",
       "      <td>0.0</td>\n",
       "      <td>1.0</td>\n",
       "      <td>0.0</td>\n",
       "      <td>0.0</td>\n",
       "      <td>1.90</td>\n",
       "      <td>3.25</td>\n",
       "      <td>3.50</td>\n",
       "    </tr>\n",
       "    <tr>\n",
       "      <th>178</th>\n",
       "      <td>SC3</td>\n",
       "      <td>Stirling</td>\n",
       "      <td>Edinburgh City</td>\n",
       "      <td>5.0</td>\n",
       "      <td>0.0</td>\n",
       "      <td>H</td>\n",
       "      <td>4.0</td>\n",
       "      <td>0.0</td>\n",
       "      <td>H</td>\n",
       "      <td>12.0</td>\n",
       "      <td>...</td>\n",
       "      <td>3.0</td>\n",
       "      <td>3.0</td>\n",
       "      <td>2.0</td>\n",
       "      <td>0.0</td>\n",
       "      <td>1.0</td>\n",
       "      <td>0.0</td>\n",
       "      <td>0.0</td>\n",
       "      <td>2.60</td>\n",
       "      <td>3.10</td>\n",
       "      <td>2.70</td>\n",
       "    </tr>\n",
       "    <tr>\n",
       "      <th>179</th>\n",
       "      <td>SC3</td>\n",
       "      <td>Stranraer</td>\n",
       "      <td>Elgin</td>\n",
       "      <td>2.0</td>\n",
       "      <td>0.0</td>\n",
       "      <td>H</td>\n",
       "      <td>0.0</td>\n",
       "      <td>0.0</td>\n",
       "      <td>D</td>\n",
       "      <td>16.0</td>\n",
       "      <td>...</td>\n",
       "      <td>20.0</td>\n",
       "      <td>5.0</td>\n",
       "      <td>5.0</td>\n",
       "      <td>1.0</td>\n",
       "      <td>3.0</td>\n",
       "      <td>0.0</td>\n",
       "      <td>0.0</td>\n",
       "      <td>2.10</td>\n",
       "      <td>3.25</td>\n",
       "      <td>3.10</td>\n",
       "    </tr>\n",
       "  </tbody>\n",
       "</table>\n",
       "<p>84788 rows × 24 columns</p>\n",
       "</div>"
      ],
      "text/plain": [
       "     Div        HomeTeam        AwayTeam  FTHG  FTAG FTR  HTHG  HTAG HTR  \\\n",
       "0    SP1         Granada           Betis   0.0   1.0   A   0.0   0.0   D   \n",
       "1    SP1        Sp Gijon        Sociedad   1.0   2.0   A   0.0   1.0   A   \n",
       "2    SP1        Valencia       Santander   4.0   3.0   H   1.0   2.0   A   \n",
       "3    SP1      Ath Bilbao       Vallecano   1.0   1.0   D   0.0   0.0   D   \n",
       "4    SP1      Ath Madrid         Osasuna   0.0   0.0   D   0.0   0.0   D   \n",
       "..   ...             ...             ...   ...   ...  ..   ...   ...  ..   \n",
       "175  SC3  Annan Athletic    Kelty Hearts   1.0   2.0   A   1.0   2.0   A   \n",
       "176  SC3     Cowdenbeath      Albion Rvs   0.0   1.0   A   0.0   0.0   D   \n",
       "177  SC3          Forfar   Stenhousemuir   0.0   0.0   D   0.0   0.0   D   \n",
       "178  SC3        Stirling  Edinburgh City   5.0   0.0   H   4.0   0.0   H   \n",
       "179  SC3       Stranraer           Elgin   2.0   0.0   H   0.0   0.0   D   \n",
       "\n",
       "       HS  ...    AF    HC   AC   HY   AY   HR   AR  B365H  B365D  B365A  \n",
       "0    11.0  ...  16.0   8.0  5.0  2.0  2.0  0.0  0.0   2.30   3.40   3.00  \n",
       "1    17.0  ...  11.0   9.0  2.0  2.0  1.0  1.0  1.0   2.05   3.25   3.75  \n",
       "2    26.0  ...  11.0  10.0  3.0  3.0  3.0  0.0  0.0   1.40   4.33   8.00  \n",
       "3    10.0  ...  19.0   9.0  4.0  1.0  3.0  0.0  0.0   1.57   3.75   6.00  \n",
       "4    28.0  ...   8.0  12.0  5.0  1.0  0.0  0.0  0.0   1.53   3.80   6.50  \n",
       "..    ...  ...   ...   ...  ...  ...  ...  ...  ...    ...    ...    ...  \n",
       "175   2.0  ...  13.0   4.0  3.0  1.0  1.0  0.0  0.0   3.30   3.60   1.85  \n",
       "176   2.0  ...   5.0   7.0  3.0  3.0  1.0  0.0  0.0    NaN    NaN    NaN  \n",
       "177  16.0  ...  12.0   7.0  3.0  0.0  1.0  0.0  0.0   1.90   3.25   3.50  \n",
       "178  12.0  ...   3.0   3.0  2.0  0.0  1.0  0.0  0.0   2.60   3.10   2.70  \n",
       "179  16.0  ...  20.0   5.0  5.0  1.0  3.0  0.0  0.0   2.10   3.25   3.10  \n",
       "\n",
       "[84788 rows x 24 columns]"
      ]
     },
     "execution_count": 6,
     "metadata": {},
     "output_type": "execute_result"
    }
   ],
   "source": [
    "# Removal of few columns which have considerable missing values ('Time','B365>2.5','B365<2.5') \n",
    "# or less important ('Date') as per assumptions \n",
    "\n",
    "df.drop(['Time', 'Date', 'B365>2.5', 'B365<2.5'], axis=1, inplace=True)\n",
    "df "
   ]
  },
  {
   "cell_type": "code",
   "execution_count": 7,
   "id": "33fa8bb7-664a-4ab9-a6a2-339b7f5dabf7",
   "metadata": {},
   "outputs": [],
   "source": [
    "# changing object classes into category class\n",
    "for col in ['Div', 'HomeTeam', 'HTR', 'AwayTeam', 'FTR']:\n",
    "    df[col] = df[col].astype('category')"
   ]
  },
  {
   "cell_type": "code",
   "execution_count": 8,
   "id": "e2439d92-053c-4d11-9f04-f5b3b877f171",
   "metadata": {},
   "outputs": [
    {
     "name": "stdout",
     "output_type": "stream",
     "text": [
      "<class 'pandas.core.frame.DataFrame'>\n",
      "Int64Index: 58864 entries, 0 to 179\n",
      "Data columns (total 24 columns):\n",
      " #   Column    Non-Null Count  Dtype   \n",
      "---  ------    --------------  -----   \n",
      " 0   Div       58864 non-null  category\n",
      " 1   HomeTeam  58864 non-null  category\n",
      " 2   AwayTeam  58864 non-null  category\n",
      " 3   FTHG      58864 non-null  float64 \n",
      " 4   FTAG      58864 non-null  float64 \n",
      " 5   FTR       58864 non-null  category\n",
      " 6   HTHG      58864 non-null  float64 \n",
      " 7   HTAG      58864 non-null  float64 \n",
      " 8   HTR       58864 non-null  category\n",
      " 9   HS        58864 non-null  float64 \n",
      " 10  AS        58864 non-null  float64 \n",
      " 11  HST       58864 non-null  float64 \n",
      " 12  AST       58864 non-null  float64 \n",
      " 13  HF        58864 non-null  float64 \n",
      " 14  AF        58864 non-null  float64 \n",
      " 15  HC        58864 non-null  float64 \n",
      " 16  AC        58864 non-null  float64 \n",
      " 17  HY        58864 non-null  float64 \n",
      " 18  AY        58864 non-null  float64 \n",
      " 19  HR        58864 non-null  float64 \n",
      " 20  AR        58864 non-null  float64 \n",
      " 21  B365H     58864 non-null  float64 \n",
      " 22  B365D     58864 non-null  float64 \n",
      " 23  B365A     58864 non-null  float64 \n",
      "dtypes: category(5), float64(19)\n",
      "memory usage: 9.4 MB\n"
     ]
    }
   ],
   "source": [
    "# Removal of rows with null values\n",
    "df = df.dropna()\n",
    "df.info()"
   ]
  },
  {
   "cell_type": "code",
   "execution_count": 10,
   "id": "555793fe-8b42-4166-a95b-53709302476f",
   "metadata": {},
   "outputs": [
    {
     "data": {
      "text/plain": [
       "Index(['Div', 'HomeTeam', 'AwayTeam', 'FTHG', 'FTAG', 'FTR', 'HTHG', 'HTAG',\n",
       "       'HTR', 'HS', 'AS', 'HST', 'AST', 'HF', 'AF', 'HC', 'AC', 'HY', 'AY',\n",
       "       'HR', 'AR', 'B365H', 'B365D', 'B365A'],\n",
       "      dtype='object')"
      ]
     },
     "execution_count": 10,
     "metadata": {},
     "output_type": "execute_result"
    }
   ],
   "source": [
    "df.columns"
   ]
  },
  {
   "cell_type": "code",
   "execution_count": 11,
   "id": "658a33d4-9d24-4d1b-82ef-9c6d94f5eea1",
   "metadata": {},
   "outputs": [
    {
     "data": {
      "text/plain": [
       "['Granada', 'Sp Gijon', 'Valencia', 'Ath Bilbao', 'Ath Madrid', ..., 'Edinburgh City', 'Elgin', 'Cowdenbeath', 'Stirling', 'Kelty Hearts']\n",
       "Length: 500\n",
       "Categories (580, object): ['AEK', 'AFC Telford United', 'AFC Wimbledon', 'AZ Alkmaar', ..., 'Yeovil', 'York', 'Zaragoza', 'Zwolle']"
      ]
     },
     "execution_count": 11,
     "metadata": {},
     "output_type": "execute_result"
    }
   ],
   "source": [
    "# Teams played in their home ground\n",
    "Home_teams = df['HomeTeam'].unique()\n",
    "Home_teams\n"
   ]
  },
  {
   "cell_type": "code",
   "execution_count": 12,
   "id": "d6c7e608-f2d2-45fe-ad00-0144fcaab95d",
   "metadata": {},
   "outputs": [
    {
     "data": {
      "text/plain": [
       "500"
      ]
     },
     "execution_count": 12,
     "metadata": {},
     "output_type": "execute_result"
    }
   ],
   "source": [
    "# Total number of home game played by each team\n",
    "Home_game = []\n",
    "for i in Home_teams:\n",
    "    Home_game.append(df[(df['HomeTeam']== i) ]['HomeTeam'] .count())\n",
    "         "
   ]
  },
  {
   "cell_type": "code",
   "execution_count": 13,
   "id": "c1fdfd5e-7419-4598-a53b-3b615115fc93",
   "metadata": {},
   "outputs": [],
   "source": [
    "# calculation of home win, draw, and loss for all the teams\n",
    "Home_wins = []\n",
    "Home_draw = []\n",
    "Home_loss = []\n",
    "for i in Home_teams:\n",
    "    Home_wins.append(df[(df['HomeTeam']== i) & (df['FTR']== 'H') ]['HomeTeam'] .count())\n",
    "    Home_draw.append(df[(df['HomeTeam']== i) & (df['FTR']== 'D') ]['HomeTeam'] .count())\n",
    "    Home_loss.append(df[(df['HomeTeam']== i) & (df['FTR']== 'A') ]['HomeTeam'] .count())    "
   ]
  },
  {
   "cell_type": "code",
   "execution_count": 14,
   "id": "dceb343d-392c-495b-9828-60fd09b27ae2",
   "metadata": {},
   "outputs": [],
   "source": [
    "# calculation of home win, draw, and loss probability for all the teams\n",
    "Home_wins_prob = []\n",
    "Home_draw_prob = []\n",
    "Home_loss_prob = []\n",
    "for i in range(0,len(Home_game)):\n",
    "    Home_wins_prob.append(Home_wins[i]/Home_game[i])\n",
    "    Home_draw_prob.append(Home_draw[i]/Home_game[i])\n",
    "    Home_loss_prob.append(Home_loss[i]/Home_game[i])\n",
    "    "
   ]
  },
  {
   "cell_type": "code",
   "execution_count": 15,
   "id": "0d31305a-b6ed-480f-889b-d1d0e55772f5",
   "metadata": {},
   "outputs": [],
   "source": [
    "# putting home probability as per FTR\n",
    "Home_prob = []\n",
    "for i in range(0,len(df['HomeTeam'])):\n",
    "    for j in range(0, len(Home_teams)):\n",
    "        if df['HomeTeam'].iloc[i] == Home_teams[j]:\n",
    "            if df['FTR'].iloc[i]=='H':\n",
    "                Home_prob.append(Home_wins_prob[j])\n",
    "            elif df['FTR'].iloc[i]=='A':\n",
    "                Home_prob.append(Home_loss_prob[j])\n",
    "            else:\n",
    "                Home_prob.append(Home_draw_prob[j])                \n",
    "        "
   ]
  },
  {
   "cell_type": "code",
   "execution_count": 16,
   "id": "54bd3ab9-f9b8-46ab-b291-c020a23dde14",
   "metadata": {},
   "outputs": [
    {
     "data": {
      "text/plain": [
       "58864"
      ]
     },
     "execution_count": 16,
     "metadata": {},
     "output_type": "execute_result"
    }
   ],
   "source": [
    "len(Home_prob)"
   ]
  },
  {
   "cell_type": "code",
   "execution_count": 17,
   "id": "66a4f6cd-3c1a-4aba-b9bf-a67fdff80e0b",
   "metadata": {},
   "outputs": [
    {
     "name": "stdout",
     "output_type": "stream",
     "text": [
      "<class 'pandas.core.frame.DataFrame'>\n",
      "Int64Index: 58864 entries, 0 to 179\n",
      "Data columns (total 25 columns):\n",
      " #   Column    Non-Null Count  Dtype   \n",
      "---  ------    --------------  -----   \n",
      " 0   Div       58864 non-null  category\n",
      " 1   HomeTeam  58864 non-null  category\n",
      " 2   AwayTeam  58864 non-null  category\n",
      " 3   FTHG      58864 non-null  float64 \n",
      " 4   FTAG      58864 non-null  float64 \n",
      " 5   FTR       58864 non-null  category\n",
      " 6   HTHG      58864 non-null  float64 \n",
      " 7   HTAG      58864 non-null  float64 \n",
      " 8   HTR       58864 non-null  category\n",
      " 9   HS        58864 non-null  float64 \n",
      " 10  AS        58864 non-null  float64 \n",
      " 11  HST       58864 non-null  float64 \n",
      " 12  AST       58864 non-null  float64 \n",
      " 13  HF        58864 non-null  float64 \n",
      " 14  AF        58864 non-null  float64 \n",
      " 15  HC        58864 non-null  float64 \n",
      " 16  AC        58864 non-null  float64 \n",
      " 17  HY        58864 non-null  float64 \n",
      " 18  AY        58864 non-null  float64 \n",
      " 19  HR        58864 non-null  float64 \n",
      " 20  AR        58864 non-null  float64 \n",
      " 21  B365H     58864 non-null  float64 \n",
      " 22  B365D     58864 non-null  float64 \n",
      " 23  B365A     58864 non-null  float64 \n",
      " 24  HP        58864 non-null  float64 \n",
      "dtypes: category(5), float64(20)\n",
      "memory usage: 9.9 MB\n"
     ]
    },
    {
     "name": "stderr",
     "output_type": "stream",
     "text": [
      "C:\\Users\\MAS LAB-4\\AppData\\Local\\Temp\\ipykernel_6548\\3194923282.py:1: SettingWithCopyWarning: \n",
      "A value is trying to be set on a copy of a slice from a DataFrame.\n",
      "Try using .loc[row_indexer,col_indexer] = value instead\n",
      "\n",
      "See the caveats in the documentation: https://pandas.pydata.org/pandas-docs/stable/user_guide/indexing.html#returning-a-view-versus-a-copy\n",
      "  df['HP'] = Home_prob\n"
     ]
    }
   ],
   "source": [
    "# adding a column \"HP\" which has the home probability as per FTR \n",
    "df['HP'] = Home_prob\n",
    "df.info()"
   ]
  },
  {
   "cell_type": "markdown",
   "id": "4aa917c7-9f8c-47a2-9864-6815394026a0",
   "metadata": {},
   "source": [
    "### Away probability as per FTR\n",
    "same as the above steps"
   ]
  },
  {
   "cell_type": "code",
   "execution_count": 19,
   "id": "f02a7ca0-1dc7-4281-985d-3e963a66a438",
   "metadata": {},
   "outputs": [
    {
     "data": {
      "text/plain": [
       "['Betis', 'Sociedad', 'Santander', 'Vallecano', 'Osasuna', ..., 'Annan Athletic', 'Edinburgh City', 'Elgin', 'Berwick', 'Kelty Hearts']\n",
       "Length: 501\n",
       "Categories (580, object): ['AEK', 'AFC Telford United', 'AFC Wimbledon', 'AZ Alkmaar', ..., 'Yeovil', 'York', 'Zaragoza', 'Zwolle']"
      ]
     },
     "execution_count": 19,
     "metadata": {},
     "output_type": "execute_result"
    }
   ],
   "source": [
    "Away_teams = df['AwayTeam'].unique()\n",
    "Away_teams"
   ]
  },
  {
   "cell_type": "code",
   "execution_count": 20,
   "id": "ebb8f344-a164-4ccc-a5f7-ece144cfcb9c",
   "metadata": {},
   "outputs": [
    {
     "data": {
      "text/plain": [
       "501"
      ]
     },
     "execution_count": 20,
     "metadata": {},
     "output_type": "execute_result"
    }
   ],
   "source": [
    "# group the data on team value.\n",
    "Away_game = []\n",
    "for i in Away_teams:\n",
    "    Away_game.append(df[(df['AwayTeam']== i) ]['AwayTeam'] .count())\n",
    "len(Away_game) "
   ]
  },
  {
   "cell_type": "code",
   "execution_count": 22,
   "id": "3738ff16-ba6e-436e-9c6c-4ab5eb355f53",
   "metadata": {},
   "outputs": [],
   "source": [
    "Away_wins = []\n",
    "Away_draw = []\n",
    "Away_loss = []\n",
    "for i in Away_teams:\n",
    "    Away_wins.append(df[(df['AwayTeam']== i) & (df['FTR']== 'H') ]['AwayTeam'] .count())\n",
    "    Away_draw.append(df[(df['AwayTeam']== i) & (df['FTR']== 'D') ]['AwayTeam'] .count())\n",
    "    Away_loss.append(df[(df['AwayTeam']== i) & (df['FTR']== 'A') ]['AwayTeam'] .count())  "
   ]
  },
  {
   "cell_type": "code",
   "execution_count": 23,
   "id": "afd0143e-3b7f-4979-beff-d7e1e6ef02bb",
   "metadata": {},
   "outputs": [],
   "source": [
    "Away_wins_prob = []\n",
    "Away_draw_prob = []\n",
    "Away_loss_prob = []\n",
    "for i in range(0,len(Away_game)):\n",
    "    Away_wins_prob.append(Away_wins[i]/Away_game[i])\n",
    "    Away_draw_prob.append(Away_draw[i]/Away_game[i])\n",
    "    Away_loss_prob.append(Away_loss[i]/Away_game[i])"
   ]
  },
  {
   "cell_type": "code",
   "execution_count": 25,
   "id": "e7b9517b-f8c4-4081-9c9b-84bcf0970f57",
   "metadata": {},
   "outputs": [],
   "source": [
    "Away_prob = []\n",
    "for i in range(0,len(df['AwayTeam'])):\n",
    "    for j in range(0, len(Away_teams)):\n",
    "        if df['AwayTeam'].iloc[i] == Away_teams[j]:\n",
    "            if df['FTR'].iloc[i]=='H':\n",
    "                Away_prob.append(Away_wins_prob[j])\n",
    "            elif df['FTR'].iloc[i]=='A':\n",
    "                Away_prob.append(Away_loss_prob[j])\n",
    "            else:\n",
    "                Away_prob.append(Away_draw_prob[j]) "
   ]
  },
  {
   "cell_type": "code",
   "execution_count": 27,
   "id": "2ecf9066-c3ef-45c3-856c-e2c47dfd0584",
   "metadata": {},
   "outputs": [
    {
     "data": {
      "text/plain": [
       "58864"
      ]
     },
     "execution_count": 27,
     "metadata": {},
     "output_type": "execute_result"
    }
   ],
   "source": [
    "len(Away_prob)"
   ]
  },
  {
   "cell_type": "code",
   "execution_count": 28,
   "id": "2f88c006-3790-4a4e-aaf6-e3b3a1dab92b",
   "metadata": {},
   "outputs": [
    {
     "name": "stdout",
     "output_type": "stream",
     "text": [
      "<class 'pandas.core.frame.DataFrame'>\n",
      "Int64Index: 58864 entries, 0 to 179\n",
      "Data columns (total 26 columns):\n",
      " #   Column    Non-Null Count  Dtype   \n",
      "---  ------    --------------  -----   \n",
      " 0   Div       58864 non-null  category\n",
      " 1   HomeTeam  58864 non-null  category\n",
      " 2   AwayTeam  58864 non-null  category\n",
      " 3   FTHG      58864 non-null  float64 \n",
      " 4   FTAG      58864 non-null  float64 \n",
      " 5   FTR       58864 non-null  category\n",
      " 6   HTHG      58864 non-null  float64 \n",
      " 7   HTAG      58864 non-null  float64 \n",
      " 8   HTR       58864 non-null  category\n",
      " 9   HS        58864 non-null  float64 \n",
      " 10  AS        58864 non-null  float64 \n",
      " 11  HST       58864 non-null  float64 \n",
      " 12  AST       58864 non-null  float64 \n",
      " 13  HF        58864 non-null  float64 \n",
      " 14  AF        58864 non-null  float64 \n",
      " 15  HC        58864 non-null  float64 \n",
      " 16  AC        58864 non-null  float64 \n",
      " 17  HY        58864 non-null  float64 \n",
      " 18  AY        58864 non-null  float64 \n",
      " 19  HR        58864 non-null  float64 \n",
      " 20  AR        58864 non-null  float64 \n",
      " 21  B365H     58864 non-null  float64 \n",
      " 22  B365D     58864 non-null  float64 \n",
      " 23  B365A     58864 non-null  float64 \n",
      " 24  HP        58864 non-null  float64 \n",
      " 25  AP        58864 non-null  float64 \n",
      "dtypes: category(5), float64(21)\n",
      "memory usage: 10.3 MB\n"
     ]
    },
    {
     "name": "stderr",
     "output_type": "stream",
     "text": [
      "C:\\Users\\MAS LAB-4\\AppData\\Local\\Temp\\ipykernel_6548\\2811629599.py:1: SettingWithCopyWarning: \n",
      "A value is trying to be set on a copy of a slice from a DataFrame.\n",
      "Try using .loc[row_indexer,col_indexer] = value instead\n",
      "\n",
      "See the caveats in the documentation: https://pandas.pydata.org/pandas-docs/stable/user_guide/indexing.html#returning-a-view-versus-a-copy\n",
      "  df['AP'] = Away_prob\n"
     ]
    }
   ],
   "source": [
    "df['AP'] = Away_prob\n",
    "df.info()"
   ]
  },
  {
   "cell_type": "code",
   "execution_count": 30,
   "id": "8f7cfa60-3bbe-4870-9f4e-10e2d6628415",
   "metadata": {},
   "outputs": [
    {
     "name": "stderr",
     "output_type": "stream",
     "text": [
      "C:\\Users\\MAS LAB-4\\AppData\\Local\\Temp\\ipykernel_6548\\1109808872.py:4: SettingWithCopyWarning: \n",
      "A value is trying to be set on a copy of a slice from a DataFrame.\n",
      "Try using .loc[row_indexer,col_indexer] = value instead\n",
      "\n",
      "See the caveats in the documentation: https://pandas.pydata.org/pandas-docs/stable/user_guide/indexing.html#returning-a-view-versus-a-copy\n",
      "  df['HTR'] = df['HTR'].map(result_dict)\n",
      "C:\\Users\\MAS LAB-4\\AppData\\Local\\Temp\\ipykernel_6548\\1109808872.py:5: SettingWithCopyWarning: \n",
      "A value is trying to be set on a copy of a slice from a DataFrame.\n",
      "Try using .loc[row_indexer,col_indexer] = value instead\n",
      "\n",
      "See the caveats in the documentation: https://pandas.pydata.org/pandas-docs/stable/user_guide/indexing.html#returning-a-view-versus-a-copy\n",
      "  df['FTR'] = df['FTR'].map(result_dict)\n"
     ]
    }
   ],
   "source": [
    "# conversion of categorical values of 'HTR' and 'FTR' to numerical values \n",
    "result_dict = {'D' : 0,\n",
    "               'H' : 1,\n",
    "               'A' : 2}\n",
    "df['HTR'] = df['HTR'].map(result_dict)\n",
    "df['FTR'] = df['FTR'].map(result_dict)"
   ]
  },
  {
   "cell_type": "markdown",
   "id": "3220727e-08f7-4cc1-8a9c-e69cf92528e1",
   "metadata": {},
   "source": [
    "#### Giving each team a unique number and replace 'HomeTeam' and 'AwayTeam' names with that number"
   ]
  },
  {
   "cell_type": "code",
   "execution_count": 31,
   "id": "0a85cae1-f217-483f-bc26-1539246cbb44",
   "metadata": {},
   "outputs": [
    {
     "data": {
      "text/plain": [
       "501"
      ]
     },
     "execution_count": 31,
     "metadata": {},
     "output_type": "execute_result"
    }
   ],
   "source": [
    "\n",
    "Teams = []\n",
    "for i in df['HomeTeam'].unique():\n",
    "    Teams.append(i)\n",
    "for i in df['AwayTeam'].unique():\n",
    "    Teams.append(i)\n",
    "all_teams = np.unique(np.array(Teams))    \n",
    "len(all_teams) "
   ]
  },
  {
   "cell_type": "code",
   "execution_count": 32,
   "id": "e7c1b03b-4e7a-4638-b6df-86c9688b58fc",
   "metadata": {},
   "outputs": [
    {
     "name": "stdout",
     "output_type": "stream",
     "text": [
      "{'AEK': 0, 'AFC Telford United': 1, 'AFC Wimbledon': 2, 'AZ Alkmaar': 3, 'Aberdeen': 4, 'Accrington': 5, 'Ad. Demirspor': 6, 'Airdrie Utd': 7, 'Ajaccio': 8, 'Ajaccio GFCO': 9, 'Ajax': 10, 'Akhisar Belediyespor': 11, 'Alanyaspor': 12, 'Alaves': 13, 'Albacete': 14, 'Albion Rvs': 15, 'Alcorcon': 16, 'Aldershot': 17, 'Alessandria': 18, 'Alfreton Town': 19, 'Alloa': 20, 'Almeria': 21, 'Altay': 22, 'Altrincham': 23, 'Amiens': 24, 'Amorebieta': 25, 'Anderlecht': 26, 'Angers': 27, 'Ankaragucu': 28, 'Annan Athletic': 29, 'Antalyaspor': 30, 'Antwerp': 31, 'Apollon': 32, 'Apollon Apollon': 33, 'Arbroath': 34, 'Aris': 35, 'Arouca': 36, 'Arsenal': 37, 'Ascoli': 38, 'Asteras Tripolis': 39, 'Aston Villa': 40, 'Atalanta': 41, 'Ath Bilbao': 42, 'Ath Madrid': 43, 'Atromitos': 44, 'Augsburg': 45, 'Auxerre': 46, 'Avellino': 47, 'Aves': 48, 'Ayr': 49, 'Barcelona': 50, 'Barcelona B': 51, 'Bari': 52, 'Barnet': 53, 'Barnsley': 54, 'Barrow': 55, 'Bastia': 56, 'Bath City': 57, 'Bayern Munich': 58, 'Beerschot VA': 59, 'Belenenses': 60, 'Benevento': 61, 'Benfica': 62, 'Berwick': 63, 'Besiktas': 64, 'Betis': 65, 'Beziers': 66, 'Bielefeld': 67, 'Birmingham': 68, 'Blackburn': 69, 'Blackpool': 70, 'Boavista': 71, 'Bochum': 72, 'Bologna': 73, 'Bolton': 74, 'Bordeaux': 75, 'Boreham Wood': 76, 'Bournemouth': 77, 'Bradford': 78, 'Braintree Town': 79, 'Braunschweig': 80, 'Brechin': 81, 'Brentford': 82, 'Brescia': 83, 'Brest': 84, 'Brighton': 85, 'Bristol City': 86, 'Bristol Rvs': 87, 'Bromley': 88, 'Burgos': 89, 'Burnley': 90, 'Bursaspor': 91, 'Burton': 92, 'Bury': 93, 'Buyuksehyr': 94, 'Cadiz': 95, 'Caen': 96, 'Cagliari': 97, 'Cambridge': 98, 'Cambuur': 99, 'Cardiff': 100, 'Carlisle': 101, 'Carpi': 102, 'Cartagena': 103, 'Castellon': 104, 'Catania': 105, 'Celta': 106, 'Celtic': 107, 'Cercle Brugge': 108, 'Cesena': 109, 'Chambly': 110, 'Charleroi': 111, 'Charlton': 112, 'Chateauroux': 113, 'Chaves': 114, 'Chelsea': 115, 'Cheltenham': 116, 'Chester': 117, 'Chesterfield': 118, 'Chievo': 119, 'Cittadella': 120, 'Clermont': 121, 'Club Brugge': 122, 'Clyde': 123, 'Colchester': 124, 'Como': 125, 'Cordoba': 126, 'Cosenza': 127, 'Cove Rangers': 128, 'Coventry': 129, 'Cowdenbeath': 130, 'Crawley Town': 131, 'Cremonese': 132, 'Crewe': 133, 'Crotone': 134, 'Crystal Palace': 135, 'Dag and Red': 136, 'Darlington': 137, 'Darmstadt': 138, 'Dartford': 139, 'Den Haag': 140, 'Denizlispor': 141, 'Derby': 142, 'Dijon': 143, 'Doncaster': 144, 'Dortmund': 145, 'Dover Athletic': 146, 'Dresden': 147, 'Duisburg': 148, 'Dumbarton': 149, 'Dundee': 150, 'Dundee United': 151, 'Dunfermline': 152, 'Dunkerque': 153, 'East Fife': 154, 'Eastleigh': 155, 'Ebbsfleet': 156, 'Edinburgh City': 157, 'Eibar': 158, 'Ein Frankfurt': 159, 'Elche': 160, 'Elgin': 161, 'Empoli': 162, 'Erzgebirge Aue': 163, 'Erzurum BB': 164, 'Espanol': 165, 'Estoril': 166, 'Eupen': 167, 'Everton': 168, 'Evian Thonon Gaillard': 169, 'Excelsior': 170, 'Exeter': 171, 'Extremadura UD': 172, 'FC Emmen': 173, 'FC Koln': 174, 'Falkirk': 175, 'Famalicao': 176, 'Farense': 177, 'Feirense': 178, 'Fenerbahce': 179, 'Feyenoord': 180, 'Fiorentina': 181, 'Fleetwood Town': 182, 'Foggia': 183, 'For Sittard': 184, 'Forest Green': 185, 'Forfar': 186, 'Fortuna Dusseldorf': 187, 'Freiburg': 188, 'Frosinone': 189, 'Fuenlabrada': 190, 'Fulham': 191, 'Galatasaray': 192, 'Gateshead': 193, 'Gaziantep': 194, 'Genclerbirligi': 195, 'Genk': 196, 'Genoa': 197, 'Gent': 198, 'Getafe': 199, 'Giannina': 200, 'Gil Vicente': 201, 'Gillingham': 202, 'Gimnastic': 203, 'Giresunspor': 204, 'Girona': 205, 'Go Ahead Eagles': 206, 'Goztep': 207, 'Graafschap': 208, 'Granada': 209, 'Grenoble': 210, 'Greuther Furth': 211, 'Grimsby': 212, 'Groningen': 213, 'Guimaraes': 214, 'Guingamp': 215, 'Guiseley': 216, 'Halifax': 217, 'Hamburg': 218, 'Hamilton': 219, 'Hannover': 220, 'Hansa Rostock': 221, 'Harrogate': 222, 'Hartlepool': 223, 'Hatayspor': 224, 'Hayes & Yeading': 225, 'Hearts': 226, 'Heerenveen': 227, 'Heidenheim': 228, 'Heracles': 229, 'Hereford': 230, 'Hertha': 231, 'Hibernian': 232, 'Hoffenheim': 233, 'Holstein Kiel': 234, 'Huddersfield': 235, 'Huesca': 236, 'Hull': 237, 'Hyde United': 238, 'Ibiza': 239, 'Ingolstadt': 240, 'Inter': 241, 'Inverness C': 242, 'Ionikos': 243, 'Ipswich': 244, 'Juve Stabia': 245, 'Juventus': 246, 'Kaiserslautern': 247, 'Karabukspor': 248, 'Karagumruk': 249, 'Karlsruhe': 250, 'Kasimpasa': 251, 'Kayserispor': 252, 'Kelty Hearts': 253, 'Kettering Town': 254, 'Kidderminster': 255, 'Kilmarnock': 256, 'Konyaspor': 257, 'Kortrijk': 258, 'La Coruna': 259, 'Lamia': 260, 'Larisa': 261, 'Las Palmas': 262, 'Lazio': 263, 'Le Havre': 264, 'Le Mans': 265, 'Lecce': 266, 'Leeds': 267, 'Leganes': 268, 'Leicester': 269, 'Lens': 270, 'Leonesa': 271, 'Levante': 272, 'Leverkusen': 273, 'Leyton Orient': 274, 'Lille': 275, 'Lincoln': 276, 'Liverpool': 277, 'Livingston': 278, 'Livorno': 279, 'Logrones': 280, 'Lorca': 281, 'Lorient': 282, 'Lugo': 283, 'Luton': 284, 'Lyon': 285, \"M'gladbach\": 286, 'Macclesfield': 287, 'Magdeburg': 288, 'Mainz': 289, 'Malaga': 290, 'Mallorca': 291, 'Man City': 292, 'Man United': 293, 'Mansfield': 294, 'Maritimo': 295, 'Marseille': 296, 'Mechelen': 297, 'Metz': 298, 'Middlesbrough': 299, 'Milan': 300, 'Millwall': 301, 'Milton Keynes Dons': 302, 'Mirandes': 303, 'Monaco': 304, 'Montpellier': 305, 'Montrose': 306, 'Monza': 307, 'Morecambe': 308, 'Moreirense': 309, 'Morton': 310, 'Motherwell': 311, 'Mouscron': 312, 'NAC Breda': 313, 'Nacional': 314, 'Nancy': 315, 'Nantes': 316, 'Napoli': 317, 'Newcastle': 318, 'Newport County': 319, 'Nice': 320, 'Nijmegen': 321, 'Nimes': 322, 'Niort': 323, 'Northampton': 324, 'Norwich': 325, \"Nott'm Forest\": 326, 'Notts County': 327, 'Novara': 328, 'Numancia': 329, 'Nuneaton Town': 330, 'Nurnberg': 331, 'OFI Crete': 332, 'Oldham': 333, 'Olympiakos': 334, 'Oostende': 335, 'Orleans': 336, 'Osasuna': 337, 'Osmanlispor': 338, 'Osnabruck': 339, 'Oud-Heverlee Leuven': 340, 'Oviedo': 341, 'Oxford': 342, 'PAOK': 343, 'PSV Eindhoven': 344, 'Pacos Ferreira': 345, 'Paderborn': 346, 'Padova': 347, 'Palermo': 348, 'Panathinaikos': 349, 'Panetolikos': 350, 'Panionios': 351, 'Paris FC': 352, 'Paris SG': 353, 'Parma': 354, 'Partick': 355, 'Pau FC': 356, 'Perugia': 357, 'Pescara': 358, 'Peterboro': 359, 'Peterhead': 360, 'Pisa': 361, 'Plymouth': 362, 'Ponferradina': 363, 'Pordenone': 364, 'Port Vale': 365, 'Portimonense': 366, 'Porto': 367, 'Portsmouth': 368, 'Preston': 369, 'Pro Vercelli': 370, 'QPR': 371, 'Queen of Sth': 372, 'Queens Park': 373, 'Quevilly Rouen': 374, 'RB Leipzig': 375, 'Raith Rvs': 376, 'Rangers': 377, 'Rayo Majadahonda': 378, 'Reading': 379, 'Real Madrid': 380, 'Red Star': 381, 'Regensburg': 382, 'Reggiana': 383, 'Reggina': 384, 'Reims': 385, 'Rennes': 386, 'Reus Deportiu': 387, 'Rio Ave': 388, 'Rizespor': 389, 'Rochdale': 390, 'Roda': 391, 'Rodez': 392, 'Roma': 393, 'Ross County': 394, 'Rotherham': 395, 'Sabadell': 396, 'Salernitana': 397, 'Salford': 398, 'Salisbury': 399, 'Sampdoria': 400, 'Sandhausen': 401, 'Santa Clara': 402, 'Santander': 403, 'Sassuolo': 404, 'Schalke 04': 405, 'Scunthorpe': 406, 'Seraing': 407, 'Setubal': 408, 'Sevilla': 409, 'Sevilla B': 410, 'Sheffield United': 411, 'Sheffield Weds': 412, 'Shrewsbury': 413, 'Siena': 414, 'Sivasspor': 415, 'Sochaux': 416, 'Sociedad': 417, 'Sociedad B': 418, 'Southampton': 419, 'Southend': 420, 'Southport': 421, 'Sp Braga': 422, 'Sp Gijon': 423, 'Sp Lisbon': 424, 'Spal': 425, 'Sparta Rotterdam': 426, 'Spezia': 427, 'St Etienne': 428, 'St Johnstone': 429, 'St Mirren': 430, 'St Pauli': 431, 'St Truiden': 432, 'St. Gilloise': 433, 'Standard': 434, 'Stenhousemuir': 435, 'Stevenage': 436, 'Stirling': 437, 'Stockport': 438, 'Stoke': 439, 'Stranraer': 440, 'Strasbourg': 441, 'Stuttgart': 442, 'Sunderland': 443, 'Sutton': 444, 'Swansea': 445, 'Swindon': 446, 'Tamworth': 447, 'Telford United': 448, 'Tenerife': 449, 'Ternana': 450, 'Tondela': 451, 'Torino': 452, 'Torquay': 453, 'Tottenham': 454, 'Toulouse': 455, 'Trabzonspor': 456, 'Tranmere': 457, 'Trapani': 458, 'Troyes': 459, 'Twente': 460, 'Udinese': 461, 'Union Berlin': 462, 'Utrecht': 463, 'VVV Venlo': 464, 'Valencia': 465, 'Valenciennes': 466, 'Valladolid': 467, 'Vallecano': 468, 'Venezia': 469, 'Verona': 470, 'Vicenza': 471, 'Villarreal': 472, 'Virtus Entella': 473, 'Vitesse': 474, 'Vizela': 475, 'Volos NFC': 476, 'Waalwijk': 477, 'Waasland-Beveren': 478, 'Walsall': 479, 'Waregem': 480, 'Watford': 481, 'Wehen': 482, 'Welling United': 483, 'Werder Bremen': 484, 'West Brom': 485, 'West Ham': 486, 'Wigan': 487, 'Willem II': 488, 'Woking': 489, 'Wolfsburg': 490, 'Wolves': 491, 'Wrexham': 492, 'Wurzburger Kickers': 493, 'Wycombe': 494, 'Xanthi': 495, 'Yeni Malatyaspor': 496, 'Yeovil': 497, 'York': 498, 'Zaragoza': 499, 'Zwolle': 500}\n"
     ]
    }
   ],
   "source": [
    "count = 0\n",
    "d = {}  # Empty dictionary to add values into\n",
    "for i in all_teams:\n",
    "    d[i] = count\n",
    "    count += 1\n",
    "print(d)"
   ]
  },
  {
   "cell_type": "code",
   "execution_count": 33,
   "id": "08d82c08-f6d3-492c-b73d-e3776be602d7",
   "metadata": {},
   "outputs": [
    {
     "name": "stderr",
     "output_type": "stream",
     "text": [
      "C:\\Users\\MAS LAB-4\\AppData\\Local\\Temp\\ipykernel_6548\\3238242631.py:1: SettingWithCopyWarning: \n",
      "A value is trying to be set on a copy of a slice from a DataFrame.\n",
      "Try using .loc[row_indexer,col_indexer] = value instead\n",
      "\n",
      "See the caveats in the documentation: https://pandas.pydata.org/pandas-docs/stable/user_guide/indexing.html#returning-a-view-versus-a-copy\n",
      "  df['HomeTeam'] = df['HomeTeam'].map(d)\n",
      "C:\\Users\\MAS LAB-4\\AppData\\Local\\Temp\\ipykernel_6548\\3238242631.py:2: SettingWithCopyWarning: \n",
      "A value is trying to be set on a copy of a slice from a DataFrame.\n",
      "Try using .loc[row_indexer,col_indexer] = value instead\n",
      "\n",
      "See the caveats in the documentation: https://pandas.pydata.org/pandas-docs/stable/user_guide/indexing.html#returning-a-view-versus-a-copy\n",
      "  df['AwayTeam'] = df['AwayTeam'].map(d)\n"
     ]
    },
    {
     "data": {
      "text/html": [
       "<div>\n",
       "<style scoped>\n",
       "    .dataframe tbody tr th:only-of-type {\n",
       "        vertical-align: middle;\n",
       "    }\n",
       "\n",
       "    .dataframe tbody tr th {\n",
       "        vertical-align: top;\n",
       "    }\n",
       "\n",
       "    .dataframe thead th {\n",
       "        text-align: right;\n",
       "    }\n",
       "</style>\n",
       "<table border=\"1\" class=\"dataframe\">\n",
       "  <thead>\n",
       "    <tr style=\"text-align: right;\">\n",
       "      <th></th>\n",
       "      <th>Div</th>\n",
       "      <th>HomeTeam</th>\n",
       "      <th>AwayTeam</th>\n",
       "      <th>FTHG</th>\n",
       "      <th>FTAG</th>\n",
       "      <th>FTR</th>\n",
       "      <th>HTHG</th>\n",
       "      <th>HTAG</th>\n",
       "      <th>HTR</th>\n",
       "      <th>HS</th>\n",
       "      <th>...</th>\n",
       "      <th>AC</th>\n",
       "      <th>HY</th>\n",
       "      <th>AY</th>\n",
       "      <th>HR</th>\n",
       "      <th>AR</th>\n",
       "      <th>B365H</th>\n",
       "      <th>B365D</th>\n",
       "      <th>B365A</th>\n",
       "      <th>HP</th>\n",
       "      <th>AP</th>\n",
       "    </tr>\n",
       "  </thead>\n",
       "  <tbody>\n",
       "    <tr>\n",
       "      <th>0</th>\n",
       "      <td>SP1</td>\n",
       "      <td>209.0</td>\n",
       "      <td>65.0</td>\n",
       "      <td>0.0</td>\n",
       "      <td>1.0</td>\n",
       "      <td>2</td>\n",
       "      <td>0.0</td>\n",
       "      <td>0.0</td>\n",
       "      <td>0</td>\n",
       "      <td>11.0</td>\n",
       "      <td>...</td>\n",
       "      <td>5.0</td>\n",
       "      <td>2.0</td>\n",
       "      <td>2.0</td>\n",
       "      <td>0.0</td>\n",
       "      <td>0.0</td>\n",
       "      <td>2.30</td>\n",
       "      <td>3.40</td>\n",
       "      <td>3.00</td>\n",
       "      <td>0.339623</td>\n",
       "      <td>0.284211</td>\n",
       "    </tr>\n",
       "    <tr>\n",
       "      <th>1</th>\n",
       "      <td>SP1</td>\n",
       "      <td>423.0</td>\n",
       "      <td>417.0</td>\n",
       "      <td>1.0</td>\n",
       "      <td>2.0</td>\n",
       "      <td>2</td>\n",
       "      <td>0.0</td>\n",
       "      <td>1.0</td>\n",
       "      <td>2</td>\n",
       "      <td>17.0</td>\n",
       "      <td>...</td>\n",
       "      <td>2.0</td>\n",
       "      <td>2.0</td>\n",
       "      <td>1.0</td>\n",
       "      <td>1.0</td>\n",
       "      <td>1.0</td>\n",
       "      <td>2.05</td>\n",
       "      <td>3.25</td>\n",
       "      <td>3.75</td>\n",
       "      <td>0.327044</td>\n",
       "      <td>0.311005</td>\n",
       "    </tr>\n",
       "    <tr>\n",
       "      <th>2</th>\n",
       "      <td>SP1</td>\n",
       "      <td>465.0</td>\n",
       "      <td>403.0</td>\n",
       "      <td>4.0</td>\n",
       "      <td>3.0</td>\n",
       "      <td>1</td>\n",
       "      <td>1.0</td>\n",
       "      <td>2.0</td>\n",
       "      <td>2</td>\n",
       "      <td>26.0</td>\n",
       "      <td>...</td>\n",
       "      <td>3.0</td>\n",
       "      <td>3.0</td>\n",
       "      <td>3.0</td>\n",
       "      <td>0.0</td>\n",
       "      <td>0.0</td>\n",
       "      <td>1.40</td>\n",
       "      <td>4.33</td>\n",
       "      <td>8.00</td>\n",
       "      <td>0.516746</td>\n",
       "      <td>0.500000</td>\n",
       "    </tr>\n",
       "    <tr>\n",
       "      <th>3</th>\n",
       "      <td>SP1</td>\n",
       "      <td>42.0</td>\n",
       "      <td>468.0</td>\n",
       "      <td>1.0</td>\n",
       "      <td>1.0</td>\n",
       "      <td>0</td>\n",
       "      <td>0.0</td>\n",
       "      <td>0.0</td>\n",
       "      <td>0</td>\n",
       "      <td>10.0</td>\n",
       "      <td>...</td>\n",
       "      <td>4.0</td>\n",
       "      <td>1.0</td>\n",
       "      <td>3.0</td>\n",
       "      <td>0.0</td>\n",
       "      <td>0.0</td>\n",
       "      <td>1.57</td>\n",
       "      <td>3.75</td>\n",
       "      <td>6.00</td>\n",
       "      <td>0.277512</td>\n",
       "      <td>0.255102</td>\n",
       "    </tr>\n",
       "    <tr>\n",
       "      <th>4</th>\n",
       "      <td>SP1</td>\n",
       "      <td>43.0</td>\n",
       "      <td>337.0</td>\n",
       "      <td>0.0</td>\n",
       "      <td>0.0</td>\n",
       "      <td>0</td>\n",
       "      <td>0.0</td>\n",
       "      <td>0.0</td>\n",
       "      <td>0</td>\n",
       "      <td>28.0</td>\n",
       "      <td>...</td>\n",
       "      <td>5.0</td>\n",
       "      <td>1.0</td>\n",
       "      <td>0.0</td>\n",
       "      <td>0.0</td>\n",
       "      <td>0.0</td>\n",
       "      <td>1.53</td>\n",
       "      <td>3.80</td>\n",
       "      <td>6.50</td>\n",
       "      <td>0.200957</td>\n",
       "      <td>0.285714</td>\n",
       "    </tr>\n",
       "  </tbody>\n",
       "</table>\n",
       "<p>5 rows × 26 columns</p>\n",
       "</div>"
      ],
      "text/plain": [
       "   Div  HomeTeam  AwayTeam  FTHG  FTAG FTR  HTHG  HTAG HTR    HS  ...   AC  \\\n",
       "0  SP1     209.0      65.0   0.0   1.0   2   0.0   0.0   0  11.0  ...  5.0   \n",
       "1  SP1     423.0     417.0   1.0   2.0   2   0.0   1.0   2  17.0  ...  2.0   \n",
       "2  SP1     465.0     403.0   4.0   3.0   1   1.0   2.0   2  26.0  ...  3.0   \n",
       "3  SP1      42.0     468.0   1.0   1.0   0   0.0   0.0   0  10.0  ...  4.0   \n",
       "4  SP1      43.0     337.0   0.0   0.0   0   0.0   0.0   0  28.0  ...  5.0   \n",
       "\n",
       "    HY   AY   HR   AR  B365H  B365D  B365A        HP        AP  \n",
       "0  2.0  2.0  0.0  0.0   2.30   3.40   3.00  0.339623  0.284211  \n",
       "1  2.0  1.0  1.0  1.0   2.05   3.25   3.75  0.327044  0.311005  \n",
       "2  3.0  3.0  0.0  0.0   1.40   4.33   8.00  0.516746  0.500000  \n",
       "3  1.0  3.0  0.0  0.0   1.57   3.75   6.00  0.277512  0.255102  \n",
       "4  1.0  0.0  0.0  0.0   1.53   3.80   6.50  0.200957  0.285714  \n",
       "\n",
       "[5 rows x 26 columns]"
      ]
     },
     "execution_count": 33,
     "metadata": {},
     "output_type": "execute_result"
    }
   ],
   "source": [
    "df['HomeTeam'] = df['HomeTeam'].map(d)\n",
    "df['AwayTeam'] = df['AwayTeam'].map(d)\n",
    "df.head()"
   ]
  },
  {
   "cell_type": "code",
   "execution_count": 35,
   "id": "f70a1b05-d262-499a-b72a-2e69780a9131",
   "metadata": {},
   "outputs": [],
   "source": [
    "# df.to_csv('football_data.csv')"
   ]
  },
  {
   "cell_type": "code",
   "execution_count": 19,
   "id": "9334d0c6-1bd0-4ea5-9afc-5dfda6f57781",
   "metadata": {},
   "outputs": [],
   "source": [
    "# df = pd.read_csv('football_data.csv',index_col=0)\n",
    "# df.head()"
   ]
  },
  {
   "cell_type": "markdown",
   "id": "aa72bc07-7e8b-4065-9f91-15b947b9204d",
   "metadata": {},
   "source": [
    "# Data Exploration"
   ]
  },
  {
   "cell_type": "code",
   "execution_count": 7,
   "id": "fe91af14-a54b-417f-b0e0-4ac470101466",
   "metadata": {},
   "outputs": [
    {
     "data": {
      "image/png": "[encoded data removed]",
      "text/plain": [
       "<Figure size 1440x1080 with 25 Axes>"
      ]
     },
     "metadata": {
      "needs_background": "light"
     },
     "output_type": "display_data"
    }
   ],
   "source": [
    "# only plots the numerical data types but not the object type\n",
    "%matplotlib inline \n",
    "df.hist(bins=50, figsize=(20,15))\n",
    "plt.show()"
   ]
  },
  {
   "cell_type": "code",
   "execution_count": 10,
   "id": "e34b0e84-6e90-45f1-8316-d2263205e85f",
   "metadata": {},
   "outputs": [
    {
     "name": "stderr",
     "output_type": "stream",
     "text": [
      "C:\\Users\\MAS LAB-4\\AppData\\Local\\Temp\\ipykernel_5192\\2656190486.py:4: DeprecationWarning: `np.bool` is a deprecated alias for the builtin `bool`. To silence this warning, use `bool` by itself. Doing this will not modify any behavior and is safe. If you specifically wanted the numpy scalar type, use `np.bool_` here.\n",
      "Deprecated in NumPy 1.20; for more details and guidance: https://numpy.org/devdocs/release/1.20.0-notes.html#deprecations\n",
      "  sns.heatmap(corr, mask=np.zeros_like(corr, dtype=np.bool),\n"
     ]
    },
    {
     "data": {
      "text/plain": [
       "<AxesSubplot:>"
      ]
     },
     "execution_count": 10,
     "metadata": {},
     "output_type": "execute_result"
    },
    {
     "data": {
      "image/png": "[encoded data removed]",
      "text/plain": [
       "<Figure size 720x576 with 2 Axes>"
      ]
     },
     "metadata": {
      "needs_background": "light"
     },
     "output_type": "display_data"
    }
   ],
   "source": [
    "# run correlation matrix and plot\n",
    "f, ax = plt.subplots(figsize=(10, 8))\n",
    "corr = df.corr()\n",
    "sns.heatmap(corr, mask=np.zeros_like(corr, dtype=np.bool),\n",
    "            cmap=sns.diverging_palette(220, 50, as_cmap=True),\n",
    "            square=True, ax=ax)"
   ]
  },
  {
   "cell_type": "markdown",
   "id": "0c583e1e-d91d-4d8e-9eff-31f51521e4d2",
   "metadata": {},
   "source": [
    "### ML Architecture"
   ]
  },
  {
   "cell_type": "code",
   "execution_count": 10,
   "id": "28bdc3d4-39b5-4d3d-ad72-4890c02fba21",
   "metadata": {},
   "outputs": [],
   "source": [
    "from sklearn.model_selection import train_test_split\n",
    "from sklearn import preprocessing\n",
    "label_encoder = preprocessing.LabelEncoder()\n",
    "df['Div']= label_encoder.fit_transform(df['Div'])\n",
    "X = df.drop(['FTR'], axis=1)\n",
    "y = df[\"FTR\"].astype('category')\n",
    "X_train, X_test, y_train, y_test = train_test_split(X, y, test_size=0.30, random_state=42)"
   ]
  },
  {
   "cell_type": "code",
   "execution_count": 11,
   "id": "45fd1842-d5ab-4096-bfa3-18560387daec",
   "metadata": {},
   "outputs": [],
   "source": [
    "# machine learing model pipeline\n",
    "\n",
    "from sklearn.svm import SVC\n",
    "from sklearn.neighbors import KNeighborsClassifier\n",
    "from sklearn.naive_bayes import GaussianNB"
   ]
  },
  {
   "cell_type": "code",
   "execution_count": 12,
   "id": "73c453f6-b03a-4c51-982e-16acb1c9c014",
   "metadata": {},
   "outputs": [],
   "source": [
    "model_pipeline = []\n",
    "\n",
    "model_pipeline.append(SVC())\n",
    "model_pipeline.append(KNeighborsClassifier())\n",
    "model_pipeline.append(GaussianNB())"
   ]
  },
  {
   "cell_type": "code",
   "execution_count": 13,
   "id": "5d664c65-ef68-4ed9-b6cb-3beaf1857ec1",
   "metadata": {},
   "outputs": [],
   "source": [
    "from sklearn import metrics\n",
    "from sklearn.metrics import classification_report\n",
    "from sklearn.metrics import confusion_matrix\n",
    " \n",
    "model_list = [  'SVM', 'KNN',  'Naive Bayes']\n",
    "acc_list = []\n",
    "auc_list = []\n",
    "cm_list = []\n",
    "\n",
    "for model in model_pipeline:\n",
    "    model.fit(X_train, y_train)\n",
    "    y_pred = model.predict(X_test)\n",
    "    acc_list.append(metrics.accuracy_score(y_test, y_pred))\n",
    "    #fpr, tpr, _thresolds = metrics.roc_curve(y_test, y_pred)\n",
    "    #auc_list.append(round(metrics.auc(fpr, tpr),2))\n",
    "    cm_list.append(confusion_matrix(y_test, y_pred))"
   ]
  },
  {
   "cell_type": "code",
   "execution_count": 14,
   "id": "3e3a0c99-dfc2-420a-bdb7-c1b015266e7c",
   "metadata": {},
   "outputs": [
    {
     "data": {
      "text/html": [
       "<div>\n",
       "<style scoped>\n",
       "    .dataframe tbody tr th:only-of-type {\n",
       "        vertical-align: middle;\n",
       "    }\n",
       "\n",
       "    .dataframe tbody tr th {\n",
       "        vertical-align: top;\n",
       "    }\n",
       "\n",
       "    .dataframe thead th {\n",
       "        text-align: right;\n",
       "    }\n",
       "</style>\n",
       "<table border=\"1\" class=\"dataframe\">\n",
       "  <thead>\n",
       "    <tr style=\"text-align: right;\">\n",
       "      <th></th>\n",
       "      <th>Model</th>\n",
       "      <th>Accuracy</th>\n",
       "    </tr>\n",
       "  </thead>\n",
       "  <tbody>\n",
       "    <tr>\n",
       "      <th>0</th>\n",
       "      <td>SVM</td>\n",
       "      <td>0.620498</td>\n",
       "    </tr>\n",
       "    <tr>\n",
       "      <th>1</th>\n",
       "      <td>KNN</td>\n",
       "      <td>0.456059</td>\n",
       "    </tr>\n",
       "    <tr>\n",
       "      <th>2</th>\n",
       "      <td>Naive Bayes</td>\n",
       "      <td>0.836920</td>\n",
       "    </tr>\n",
       "  </tbody>\n",
       "</table>\n",
       "</div>"
      ],
      "text/plain": [
       "         Model  Accuracy\n",
       "0          SVM  0.620498\n",
       "1          KNN  0.456059\n",
       "2  Naive Bayes  0.836920"
      ]
     },
     "execution_count": 14,
     "metadata": {},
     "output_type": "execute_result"
    }
   ],
   "source": [
    "result_df = pd.DataFrame({'Model' : model_list, 'Accuracy': acc_list}) \n",
    "result_df"
   ]
  },
  {
   "cell_type": "code",
   "execution_count": 18,
   "id": "3f331a0d-89d6-4e09-bec1-d9ee73a37f09",
   "metadata": {},
   "outputs": [
    {
     "data": {
      "image/png": "[encoded data removed]",
      "text/plain": [
       "<Figure size 1296x720 with 6 Axes>"
      ]
     },
     "metadata": {
      "needs_background": "light"
     },
     "output_type": "display_data"
    }
   ],
   "source": [
    "# plot  confusion matrix\n",
    "\n",
    "fig = plt.figure(figsize= (18,10))\n",
    "for i in range(len(cm_list)):\n",
    "    cm = cm_list[i]\n",
    "    model = model_list[i]\n",
    "    sub = fig.add_subplot(2, 3, i+1).set_title(model)\n",
    "    #cm_plot = plt.imshow( cm , cmap = 'cool' , interpolation = 'nearest')\n",
    "    cm_plot =  sns.heatmap(cm/np.sum(cm), annot=True, cmap = 'Blues', linewidths = 0.1, linecolor='black')\n",
    "    cm_plot.set_xlabel('predicted Values')\n",
    "    cm_plot.set_ylabel('Actual Values')"
   ]
  },
  {
   "cell_type": "markdown",
   "id": "e9ac9840-9095-4ef9-a030-52d57a938ade",
   "metadata": {},
   "source": [
    "### Hyperparameter Tuning to improve Accuracy"
   ]
  },
  {
   "cell_type": "code",
   "execution_count": 41,
   "id": "bccada5b-fb89-4dc7-b825-78653f812e76",
   "metadata": {},
   "outputs": [],
   "source": [
    "# https://www.analyticsvidhya.com/blog/2021/01/gaussian-naive-bayes-with-hyperpameter-tuning/\n",
    "from sklearn.model_selection import RepeatedStratifiedKFold\n",
    "\n",
    "cv_method = RepeatedStratifiedKFold(n_splits=5, \n",
    "                                    n_repeats=3, \n",
    "                                    random_state=999)"
   ]
  },
  {
   "cell_type": "code",
   "execution_count": 42,
   "id": "69f340c1-0ba2-4783-ba59-dcff4e1a76bb",
   "metadata": {},
   "outputs": [
    {
     "name": "stdout",
     "output_type": "stream",
     "text": [
      "Fitting 15 folds for each of 100 candidates, totalling 1500 fits\n"
     ]
    }
   ],
   "source": [
    "from sklearn.model_selection import GridSearchCV\n",
    "from sklearn.preprocessing import PowerTransformer\n",
    "params_NB = {'var_smoothing': np.logspace(0,-9, num=100)}\n",
    "\n",
    "gs_NB = GridSearchCV(estimator=model, \n",
    "                     param_grid=params_NB, \n",
    "                     cv=cv_method,\n",
    "                     verbose=1, \n",
    "                     scoring='accuracy')\n",
    "\n",
    "Data_transformed = PowerTransformer().fit_transform(X_test)\n",
    "\n",
    "gs_NB.fit(Data_transformed, y_test);"
   ]
  },
  {
   "cell_type": "code",
   "execution_count": 43,
   "id": "1b68f304-dfce-49f6-87da-baceeb9e56e2",
   "metadata": {},
   "outputs": [
    {
     "data": {
      "text/plain": [
       "{'var_smoothing': 0.0002310129700083158}"
      ]
     },
     "execution_count": 43,
     "metadata": {},
     "output_type": "execute_result"
    }
   ],
   "source": [
    "gs_NB.best_params_"
   ]
  },
  {
   "cell_type": "code",
   "execution_count": 44,
   "id": "2af80348-3b52-474a-8c04-91ddff4c83ec",
   "metadata": {},
   "outputs": [
    {
     "data": {
      "text/plain": [
       "0.8586825217063042"
      ]
     },
     "execution_count": 44,
     "metadata": {},
     "output_type": "execute_result"
    }
   ],
   "source": [
    "gs_NB.best_score_"
   ]
  },
  {
   "cell_type": "code",
   "execution_count": 45,
   "id": "b24cf53a-d128-4503-a500-7de1c1104b7a",
   "metadata": {},
   "outputs": [],
   "source": [
    "results_NB = pd.DataFrame(gs_NB.cv_results_['params'])\n",
    "results_NB['test_score'] = gs_NB.cv_results_['mean_test_score']"
   ]
  },
  {
   "cell_type": "code",
   "execution_count": 46,
   "id": "5e10f521-d182-4fad-bb60-8e503f545c25",
   "metadata": {},
   "outputs": [
    {
     "data": {
      "image/png": "[encoded data removed]",
      "text/plain": [
       "<Figure size 432x288 with 1 Axes>"
      ]
     },
     "metadata": {
      "needs_background": "light"
     },
     "output_type": "display_data"
    }
   ],
   "source": [
    "plt.plot(results_NB['var_smoothing'], results_NB['test_score'], marker = '.')    \n",
    "plt.xlabel('Var. Smoothing')\n",
    "plt.ylabel(\"Mean CV Score\")\n",
    "plt.title(\"NB Performance Comparison\")\n",
    "plt.show()"
   ]
  },
  {
   "cell_type": "code",
   "execution_count": 47,
   "id": "a9ef1db9-13a3-4e92-a06a-28d98d26eb99",
   "metadata": {},
   "outputs": [
    {
     "name": "stdout",
     "output_type": "stream",
     "text": [
      "accuracy_score on test dataset :  0.8595696489241224\n"
     ]
    }
   ],
   "source": [
    "# predict the target on the test dataset\n",
    "predict_test = gs_NB.predict(Data_transformed)\n",
    "from sklearn.metrics import accuracy_score\n",
    "# Accuracy Score on test dataset\n",
    "accuracy_test = accuracy_score(y_test,predict_test)\n",
    "print('accuracy_score on test dataset : ', accuracy_test)"
   ]
  }
 ],
 "metadata": {
  "kernelspec": {
   "display_name": "Python 3 (ipykernel)",
   "language": "python",
   "name": "python3"
  },
  "language_info": {
   "codemirror_mode": {
    "name": "ipython",
    "version": 3
   },
   "file_extension": ".py",
   "mimetype": "text/x-python",
   "name": "python",
   "nbconvert_exporter": "python",
   "pygments_lexer": "ipython3",
   "version": "3.10.2"
  }
 },
 "nbformat": 4,
 "nbformat_minor": 5
}
